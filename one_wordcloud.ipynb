{
 "cells": [
  {
   "cell_type": "markdown",
   "id": "bdc9dabd-859a-4044-bd20-d5c2523a2038",
   "metadata": {},
   "source": [
    "# Word Clouds with Masking Images"
   ]
  },
  {
   "cell_type": "code",
   "execution_count": 2,
   "id": "2ae03264-13aa-4afb-a2b3-6dbb6611e766",
   "metadata": {},
   "outputs": [],
   "source": [
    "from rembg import remove \n",
    "from PIL import Image\n",
    "from wordcloud import WordCloud, STOPWORDS\n",
    "import numpy as np\n",
    "import matplotlib.pyplot as plt"
   ]
  },
  {
   "cell_type": "markdown",
   "id": "269ec30e-29e5-414e-ad4e-241ade070510",
   "metadata": {},
   "source": [
    "## Images"
   ]
  },
  {
   "cell_type": "code",
   "execution_count": 3,
   "id": "5e7b0823-71d8-4346-be65-dbd1bd5d1260",
   "metadata": {},
   "outputs": [],
   "source": [
    "# Choose an object for the subject of the word cloud\n",
    "object_name = 'one'"
   ]
  },
  {
   "cell_type": "code",
   "execution_count": 4,
   "id": "a8900195-2662-4e75-bc6a-377cd9c9bb59",
   "metadata": {},
   "outputs": [],
   "source": [
    "# Once you have a working silhouette, mark this false so it is not overwritten accidentally\n",
    "ImagesNotProcessed = True "
   ]
  },
  {
   "cell_type": "markdown",
   "id": "54cde9e0-ea5e-4fea-82d0-e0a094339dff",
   "metadata": {},
   "source": [
    "### Internet Images"
   ]
  },
  {
   "cell_type": "code",
   "execution_count": 5,
   "id": "08ff1de5-9672-49e6-ba44-4295b3e6acbd",
   "metadata": {},
   "outputs": [
    {
     "name": "stderr",
     "output_type": "stream",
     "text": [
      "[========================================================================] 100%\r"
     ]
    },
    {
     "name": "stdout",
     "output_type": "stream",
     "text": [
      "Images downloaded successfully.\n"
     ]
    },
    {
     "name": "stderr",
     "output_type": "stream",
     "text": [
      "\n"
     ]
    }
   ],
   "source": [
    "if ImagesNotProcessed:\n",
    "    from simple_image_download import simple_image_download as simp \n",
    "    response = simp.Downloader()\n",
    "    keyword = object_name\n",
    "    try:\n",
    "        response.download(keyword, 17)\n",
    "        print(\"Images downloaded successfully.\")\n",
    "    except Exception as e:\n",
    "        print(\"An error occurred:\", e)"
   ]
  },
  {
   "cell_type": "markdown",
   "id": "96b4124d-6e27-414a-85fa-792c22e30fbb",
   "metadata": {},
   "source": [
    "#### Find an image in /simple_images as the basis for your cloud\n",
    "#### Save that image as [object_name].png in /assets"
   ]
  },
  {
   "cell_type": "markdown",
   "id": "c85cebf1-982d-48cf-abcb-912f1e68df52",
   "metadata": {},
   "source": [
    "### Strip Background"
   ]
  },
  {
   "cell_type": "code",
   "execution_count": 6,
   "id": "a3606a2e-01f6-4b22-80a3-7a90678d1786",
   "metadata": {},
   "outputs": [],
   "source": [
    "if ImagesNotProcessed:\n",
    "    input_img = 'assets/'+object_name+'.png'\n",
    "    output_img = 'assets/'+object_name+'_out.png'\n",
    "\n",
    "    inp = Image.open(input_img)\n",
    "    output = remove(inp)\n",
    "\n",
    "    output.save(output_img)\n",
    "\n",
    "if False: #Try this next\n",
    "    output = remove(Image.open('assets/'+object_name+'.png')).save('assets/'+object_name+'_out.png')"
   ]
  },
  {
   "cell_type": "markdown",
   "id": "dbaaecb8-35db-476c-a719-b5f3c97e7f88",
   "metadata": {},
   "source": [
    "### Silhouette"
   ]
  },
  {
   "cell_type": "code",
   "execution_count": 7,
   "id": "97a41972-7406-4d16-9efa-7d38c82ad966",
   "metadata": {},
   "outputs": [],
   "source": [
    "if ImagesNotProcessed:\n",
    "    im = Image.open('assets/'+object_name+'_out.png')\n",
    "    \n",
    "    # Extract the main channel and threshold it at 80% white\n",
    "    alpha = im.getchannel('A')\n",
    "    alphaThresh = alpha.point(lambda p: 255 if p>200 else 0)\n",
    "    \n",
    "    # Make a new completely black image same size as original \n",
    "    res = Image.new('RGB', im.size)\n",
    "    \n",
    "    # Copy across the alpha channel from original\n",
    "    res.putalpha(alphaThresh)\n",
    "    res.save('assets/'+object_name+'_sil.png')"
   ]
  },
  {
   "cell_type": "markdown",
   "id": "bd0283d1-88c6-4284-b108-acd876ac8416",
   "metadata": {},
   "source": [
    "###### You may run into problems if the file size is too large.  (Output of wordcloud does not get masked).  Take a screenshot of image just made and save that over it."
   ]
  },
  {
   "cell_type": "markdown",
   "id": "87278d9a-1e5c-432f-9363-c25b711ff3b2",
   "metadata": {},
   "source": [
    "## Text"
   ]
  },
  {
   "cell_type": "markdown",
   "id": "fa40239a-9d12-473a-8d76-7b6dbf40fcef",
   "metadata": {},
   "source": [
    "##### Create a text file at assets/[object_name].txt.  (from wikipedia, for example)  You may get errors and need to remove some characters."
   ]
  },
  {
   "cell_type": "code",
   "execution_count": 8,
   "id": "9c4d6575-d922-4b6f-848e-1a4d9e2261ba",
   "metadata": {},
   "outputs": [],
   "source": [
    "# Set this to False when text is fully processed\n",
    "TextNotProcessed = True"
   ]
  },
  {
   "cell_type": "code",
   "execution_count": 12,
   "id": "830c4f3b-62af-40e9-8e0c-25a74308dec9",
   "metadata": {},
   "outputs": [],
   "source": [
    "if TextNotProcessed:\n",
    "    data = open('assets/'+object_name+'.txt', 'r', encoding=\"utf8\").read()"
   ]
  },
  {
   "cell_type": "markdown",
   "id": "75e83582-5aa0-4bc7-a48a-906d1aef5151",
   "metadata": {},
   "source": [
    "## Word Cloud"
   ]
  },
  {
   "cell_type": "code",
   "execution_count": 13,
   "id": "4193dc6c-4296-4ef1-ac18-edc2ff8a51ef",
   "metadata": {},
   "outputs": [],
   "source": [
    "stopwords = set(STOPWORDS)\n",
    "stop_list = []\n",
    "for word in stop_list:\n",
    "    STOPWORDS.add(word)\n",
    "    STOPWORDS.add(' '+word)\n",
    "    STOPWORDS.add(word+' ')\n",
    "    STOPWORDS.add('\\t'+word)\n",
    "    STOPWORDS.add(word+'\\t')    "
   ]
  },
  {
   "cell_type": "code",
   "execution_count": 14,
   "id": "534c8838-770f-410c-9ecf-e61be9bc77e7",
   "metadata": {},
   "outputs": [
    {
     "name": "stdout",
     "output_type": "stream",
     "text": [
      "Wordcloud Created\n"
     ]
    }
   ],
   "source": [
    "object_cloud = WordCloud()\n",
    "object_cloud.generate(data)\n",
    "print('Wordcloud Created')"
   ]
  },
  {
   "cell_type": "code",
   "execution_count": 15,
   "id": "06945812-4b46-4610-ac92-ddf303968bd2",
   "metadata": {},
   "outputs": [
    {
     "name": "stdout",
     "output_type": "stream",
     "text": [
      "Mask Created\n"
     ]
    }
   ],
   "source": [
    "object_mask = np.array(Image.open('assets/'+object_name+'_sil.png'))\n",
    "print('Mask Created')"
   ]
  },
  {
   "cell_type": "code",
   "execution_count": 16,
   "id": "564d6235-9bed-4ed9-afd1-0cf918b340cd",
   "metadata": {},
   "outputs": [
    {
     "data": {
      "image/png": "[encoded data removed]",
      "text/plain": [
       "<Figure size 200x300 with 1 Axes>"
      ]
     },
     "metadata": {},
     "output_type": "display_data"
    }
   ],
   "source": [
    "fig = plt.figure(figsize=(2,3))\n",
    "plt.imshow(object_mask, cmap=plt.cm.gray, interpolation='bilinear')\n",
    "plt.axis('off')\n",
    "plt.show()"
   ]
  },
  {
   "cell_type": "code",
   "execution_count": 19,
   "id": "4fa49c1c-195f-4cab-9892-89ebd8903aec",
   "metadata": {},
   "outputs": [
    {
     "data": {
      "image/png": "[encoded data removed]",
      "text/plain": [
       "<Figure size 800x400 with 1 Axes>"
      ]
     },
     "metadata": {},
     "output_type": "display_data"
    }
   ],
   "source": [
    "object_cloud = WordCloud(background_color='black', max_words=5000, mask=object_mask, colormap = \"rainbow\", stopwords=stopwords)\n",
    "object_cloud.generate(data)\n",
    "fig = plt.figure(figsize=(8,4))\n",
    "plt.imshow(object_cloud, interpolation='bilinear')\n",
    "plt.axis('off')\n",
    "plt.show()"
   ]
  }
 ],
 "metadata": {
  "kernelspec": {
   "display_name": "Python 3 (ipykernel)",
   "language": "python",
   "name": "python3"
  },
  "language_info": {
   "codemirror_mode": {
    "name": "ipython",
    "version": 3
   },
   "file_extension": ".py",
   "mimetype": "text/x-python",
   "name": "python",
   "nbconvert_exporter": "python",
   "pygments_lexer": "ipython3",
   "version": "3.12.3"
  }
 },
 "nbformat": 4,
 "nbformat_minor": 5
}
